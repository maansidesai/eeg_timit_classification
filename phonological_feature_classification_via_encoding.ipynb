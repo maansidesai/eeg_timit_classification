{
 "cells": [
  {
   "cell_type": "code",
   "execution_count": 5,
   "metadata": {},
   "outputs": [],
   "source": [
    "import mne\n",
    "import h5py\n",
    "import numpy as np \n",
    "import matplotlib\n",
    "import matplotlib.pyplot as plt\n",
    "import os\n",
    "from tools import *"
   ]
  },
  {
   "cell_type": "code",
   "execution_count": null,
   "metadata": {},
   "outputs": [],
   "source": [
    "data_dir = '/Users/maansidesai/Box/hamilton_lab_data/trailers_timit' #change this path\n",
    "\n",
    "subject='MT0002'\n",
    "stimulus_class = 'TIMIT'\n",
    "\n",
    "#load stim and resp \n",
    "loadEEGh5(subject, stimulus_class, data_dir,\n",
    "          eeg_epochs=True, resp_mean = True, binarymat=False, binaryfeatmat = True, envelope=False, pitch=False, gabor_pc10=False, \n",
    "          spectrogram=False, binned_pitches=False, spectrogram_scaled=False, scene_cut=False)\n"
   ]
  },
  {
   "cell_type": "code",
   "execution_count": 15,
   "metadata": {},
   "outputs": [
    {
     "data": {
      "text/plain": [
       "'~/Users/maansidesai/Box/hamilton_lab_data/trailers_timit'"
      ]
     },
     "execution_count": 15,
     "metadata": {},
     "output_type": "execute_result"
    }
   ],
   "source": [
    "#load weights from encoding model - from training set (370 sentences)\n",
    "f = h5py.File('%s/%s_STRF_by_phnfeat_%s.hf5' %(data_dir, subject, stimulus_class))\n",
    "weights = f['wts_%s' %(stimulus_class.lower())][:]"
   ]
  },
  {
   "cell_type": "code",
   "execution_count": null,
   "metadata": {},
   "outputs": [],
   "source": [
    "#resp for test set\n",
    "test_set = ['fcaj0_si1479.wav', 'fcaj0_si1804.wav', 'fdfb0_si1948.wav', \n",
    "    'fdxw0_si2141.wav', 'fisb0_si2209.wav', 'mbbr0_si2315.wav', \n",
    "    'mdlc2_si2244.wav', 'mdls0_si998.wav', 'mjdh0_si1984.wav', \n",
    "    'mjmm0_si625.wav']\n",
    "\n",
    "\n",
    "vResp = np.hstack([resp_dict[r][0] for r in test_set]).T"
   ]
  }
 ],
 "metadata": {
  "kernelspec": {
   "display_name": "Python 3",
   "language": "python",
   "name": "python3"
  },
  "language_info": {
   "codemirror_mode": {
    "name": "ipython",
    "version": 3
   },
   "file_extension": ".py",
   "mimetype": "text/x-python",
   "name": "python",
   "nbconvert_exporter": "python",
   "pygments_lexer": "ipython3",
   "version": "3.6.6"
  }
 },
 "nbformat": 4,
 "nbformat_minor": 2
}
